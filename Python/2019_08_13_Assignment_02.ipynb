{
 "cells": [
  {
   "cell_type": "markdown",
   "metadata": {},
   "source": [
    "#### Assignment (13th August, 2019)\n",
    "\n",
    "Follow up questions TO DO-\n",
    "'''Write a Python function to find the Max of three numbers.'''\n",
    "'''Write a Python function to sum all the numbers in a list.'''\n",
    "'''Write a Python function to multiply all the numbers in a list.'''\n",
    "'''Write a Python program to reverse a string.'''\n",
    "'''Write a Python function to calculate the factorial of a number (a non-negative integer).\n",
    "The function accepts the number as an argument.'"
   ]
  },
  {
   "cell_type": "markdown",
   "metadata": {},
   "source": [
    "#### Assignments : Solved"
   ]
  },
  {
   "cell_type": "code",
   "execution_count": 1,
   "metadata": {},
   "outputs": [
    {
     "name": "stdout",
     "output_type": "stream",
     "text": [
      "Please enter 3 numbers!\n",
      "3\n",
      "4\n",
      "5\n",
      "Max of the 3 numbers ( 3 ,  4 ,  5 ) is : \n",
      "5\n"
     ]
    }
   ],
   "source": [
    "# '''Write a Python function to find the Max of three numbers.'''\n",
    "\n",
    "def findMaxNum(a, b, c) :\n",
    "    print(\"Max of the 3 numbers (\", a, \", \", b, \", \", c, \") is : \")\n",
    "    \n",
    "    if(a>b and a>c):\n",
    "        print(a)\n",
    "    elif(b>a and b>c):\n",
    "        print(b)\n",
    "    else:\n",
    "        print(c)\n",
    "  \n",
    "        \n",
    "print(\"Please enter 3 numbers!\") \n",
    "a=int(input())\n",
    "b=int(input())\n",
    "c=int(input())\n",
    "findMaxNum(a, b, c)"
   ]
  },
  {
   "cell_type": "code",
   "execution_count": 3,
   "metadata": {},
   "outputs": [
    {
     "name": "stdout",
     "output_type": "stream",
     "text": [
      "Please enter a list of numbers seperated by a space\n",
      "3 4 5\n",
      "The sum of all numbers in the list :  ['3', '4', '5']  is :: \n",
      "12\n"
     ]
    }
   ],
   "source": [
    "# '''Write a Python function to sum all the numbers in a list.'''\n",
    "\n",
    "def sumListNums(l):\n",
    "    \n",
    "    sum=0\n",
    "    for i in l:\n",
    "        sum += int(i)\n",
    "        \n",
    "    return sum\n",
    "\n",
    "l=[2,3,4]\n",
    "print(\"Please enter a list of numbers seperated by a space\")\n",
    "#l=list(input())\n",
    "l=str(input()).split()\n",
    "print(\"The sum of all numbers in the list : \", l, \" is :: \")\n",
    "print(sumListNums(l))"
   ]
  },
  {
   "cell_type": "code",
   "execution_count": 4,
   "metadata": {},
   "outputs": [
    {
     "name": "stdout",
     "output_type": "stream",
     "text": [
      "Please enter a list of numbers seperated by a space\n",
      "3 4 5\n",
      "The product of all numbers in the list :  ['3', '4', '5']  is :: \n",
      "60\n"
     ]
    }
   ],
   "source": [
    "### '''Write a Python function to multiply all the numbers in a list.'''\n",
    "\n",
    "def productOfListNums(l):\n",
    "    \n",
    "    product=1\n",
    "    for i in l:\n",
    "        product *= int(i)\n",
    "        \n",
    "    return product\n",
    "\n",
    "l=[2,3,4]\n",
    "print(\"Please enter a list of numbers seperated by a space\")\n",
    "l=str(input()).split()\n",
    "print(\"The product of all numbers in the list : \", l, \" is :: \")\n",
    "print(productOfListNums(l))"
   ]
  },
  {
   "cell_type": "code",
   "execution_count": 5,
   "metadata": {},
   "outputs": [
    {
     "name": "stdout",
     "output_type": "stream",
     "text": [
      "Please enter a string to be reversed : August\n",
      "tsuguA\n",
      "tsuguA\n"
     ]
    }
   ],
   "source": [
    "# '''Write a Python program to reverse a string.'''\n",
    "\n",
    "def reverseString(s):\n",
    "    \n",
    "    ns = \"\"\n",
    "    \n",
    "    # PYTHON\n",
    "    \n",
    "    for i in s:\n",
    "        ns = i + ns\n",
    "        \n",
    "    return ns\n",
    "\n",
    "st=input(\"Please enter a string to be reversed : \")\n",
    "print(reverseString(st))\n",
    "\n",
    "# Most simple way to do the same is : \n",
    "print(st[::-1])"
   ]
  },
  {
   "cell_type": "code",
   "execution_count": 9,
   "metadata": {},
   "outputs": [
    {
     "name": "stdout",
     "output_type": "stream",
     "text": [
      "Please enter a number to find factorial : 6\n",
      "720\n"
     ]
    }
   ],
   "source": [
    "# '''Write a Python function to calculate the factorial of a number (a non-negative integer).\n",
    "# The function accepts the number as an argument.'\n",
    "\n",
    "# 3 ways to do the same have been shown (2 commented)\n",
    "\n",
    "import math\n",
    "\n",
    "def findFactorial(fnum):\n",
    "    \n",
    "    j = 1\n",
    "   \n",
    "# Code to find the factorial of a number\n",
    "#     while(fnum>1):\n",
    "#         j *= fnum\n",
    "#         fnum -= 1\n",
    "        \n",
    "#      for i in range(1,fnum+1): \n",
    "#          j *= i\n",
    "        \n",
    "#     return j\n",
    "\n",
    "# Simplified (library/readily available) Code to find the factorial of a number\n",
    "    return math.factorial(fnum)\n",
    "\n",
    "ff=int(input(\"Please enter a number to find factorial : \"))\n",
    "print(findFactorial(ff))"
   ]
  },
  {
   "cell_type": "code",
   "execution_count": null,
   "metadata": {},
   "outputs": [],
   "source": []
  }
 ],
 "metadata": {
  "kernelspec": {
   "display_name": "Python 3",
   "language": "python",
   "name": "python3"
  },
  "language_info": {
   "codemirror_mode": {
    "name": "ipython",
    "version": 3
   },
   "file_extension": ".py",
   "mimetype": "text/x-python",
   "name": "python",
   "nbconvert_exporter": "python",
   "pygments_lexer": "ipython3",
   "version": "3.7.3"
  }
 },
 "nbformat": 4,
 "nbformat_minor": 2
}
