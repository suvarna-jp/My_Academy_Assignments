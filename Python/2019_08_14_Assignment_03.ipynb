{
 "cells": [
  {
   "cell_type": "markdown",
   "metadata": {},
   "source": [
    "#### Assignment 03 (14th August, 2019)\n",
    "\n",
    "1) Create a Cricle class and intialize it with radius. Make two methods getArea and getCircumference inside this class\n",
    "\n",
    "2) Create a Temprature class. Make two methods :\n",
    "a. convertFahrenheit - It will take celsius and will print it into Fahrenheit.\n",
    "b. convertCelsius - It will take Fahrenheit and will convert it into Celsius.\n",
    "\n",
    "3) Create a Student class and initialize it with name and roll number. Make methods to :\n",
    "a. Display - It should display all informations of the student.\n",
    "b. setAge - It should assign age to student\n",
    "c. setMarks - It should assign marks to the student.\n",
    "\n",
    "4) Create a Time class and initialize it with hours and minutes.\n",
    "a. Make a method addTime which should take two time object and add them. E.g.- (2 hour and 50 min)+(1 hr and 20 min) is (4 hr and 10 min)\n",
    "b. Make a method displayTime which should print the time.\n",
    "c. Make a method DisplayMinute which should display the total minutes in the Time. E.g.- (1 hr 2 min) should display 62 minute.\n",
    "\n",
    "5) Create a class Mathematics with different mathematical operations like addition, subtraction...etc and output the deseried result"
   ]
  },
  {
   "cell_type": "code",
   "execution_count": 1,
   "metadata": {},
   "outputs": [
    {
     "name": "stdout",
     "output_type": "stream",
     "text": [
      "Please enter radius : 4\n",
      "Please enter units : cms\n",
      "Creating a Circle with a radius of :  4 cms\n",
      "Area of circle :  50.24 cms²\n",
      "Circumference of circle :  25.12 cms\n"
     ]
    }
   ],
   "source": [
    "# 1) Create a Cricle class and intialize it with radius. Make two methods getArea and getCircumference inside this class\n",
    "\n",
    "class Circle:\n",
    "    \n",
    "    def __init__(self, radius, units):\n",
    "        self.radius = radius\n",
    "        self.units = units\n",
    "        print(\"Creating a Circle with a radius of : \", self.radius, self.units)\n",
    "        \n",
    "    def getArea(self):\n",
    "        area = 3.14 * (self.radius**2)\n",
    "        return area\n",
    "    \n",
    "    def getCircumference(self):\n",
    "        area = 2 * 3.14 * self.radius\n",
    "        return area\n",
    "    \n",
    "\n",
    "r = int(input(\"Please enter radius : \"))\n",
    "u = input(\"Please enter units : \")\n",
    "c = Circle(r, u)           #Creating an object of Circle with radius 5\n",
    "print(\"Area of circle : \", c.getArea(), (c.units+\"\\u00b2\"))             # Returns area of a circle\n",
    "print(\"Circumference of circle : \", c.getCircumference(), c.units)    # Returns area of a circle\n"
   ]
  },
  {
   "cell_type": "code",
   "execution_count": 3,
   "metadata": {},
   "outputs": [
    {
     "name": "stdout",
     "output_type": "stream",
     "text": [
      "Temprature converter\n",
      "Please enter temprature in Celsius : 50\n",
      "50  °C =  122.0  °F\n",
      "Please enter temprature in Fahrenheit : 122\n",
      "122  °F =  50.0  °C\n"
     ]
    }
   ],
   "source": [
    "# 2)Create a Temprature class. Make two methods :\n",
    "# a. convertFahrenheit - It will take celsius and will print it into Fahrenheit.\n",
    "# b. convertCelsius - It will take Fahrenheit and will convert it into Celsius.\n",
    "\n",
    "class Temprature:\n",
    "    \n",
    "    def __init__(self):\n",
    "        print(\"Temprature converter\")\n",
    "        \n",
    "    def convertFahrenheit(self):\n",
    "        c = int(input(\"Please enter temprature in Celsius : \"))\n",
    "        f  = (((c)*(9/5)) + 32)\n",
    "        print(c, \" \\u00b0C = \", f, \" \\u00b0F\" )\n",
    "    \n",
    "    def convertCelsius(self):\n",
    "        f = int(input(\"Please enter temprature in Fahrenheit : \"))\n",
    "        c  = ((f)-32)*(5/9)\n",
    "        print(f, \" \\u00b0F = \", c, \" \\u00b0C\" )\n",
    "        \n",
    "    \n",
    "t = Temprature()            #Creating an object of Temprature\n",
    "\n",
    "t.convertFahrenheit() # It will take celsius and will print it into Fahrenheit.\n",
    "t.convertCelsius()  # It will take Fahrenheit and will convert it into Celsius.\n"
   ]
  },
  {
   "cell_type": "code",
   "execution_count": 4,
   "metadata": {},
   "outputs": [
    {
     "name": "stdout",
     "output_type": "stream",
     "text": [
      "Student Roll # :  1\n",
      "Student Name :  Suvarna\n",
      "Student Age :  Not Set\n",
      "Student Marks :  Not Set \n",
      "\n",
      "\n",
      "Student Roll # :  1\n",
      "Student Name :  Suvarna\n",
      "Student Age :  15\n",
      "Student Marks :  Not Set \n",
      "\n",
      "\n",
      "Student Roll # :  1\n",
      "Student Name :  Suvarna\n",
      "Student Age :  15\n",
      "Student Marks :  {'Math': 96, 'Science': 82, 'English': 85, 'Hindi': 78} \n",
      "\n",
      "\n"
     ]
    }
   ],
   "source": [
    "# 3) Create a Student class and initialize it with name and roll number. Make methods to :\n",
    "#     a. Display - It should display all information of the student.\n",
    "#     b. setAge - It should assign age to student\n",
    "#     c. setMarks - It should assign marks to the student.\n",
    "\n",
    "class Student:\n",
    "    \n",
    "    RollNo = 0\n",
    "    age = \"Not Set\"\n",
    "    marks = \"Not Set\"\n",
    "    \n",
    "    def __init__(self, name):\n",
    "        self.name=name\n",
    "        Student.RollNo += 1\n",
    "        \n",
    "    def displayStudentDetails(self):\n",
    "        print(\"Student Roll # : \", Student.RollNo )\n",
    "        print(\"Student Name : \", self.name )\n",
    "        print(\"Student Age : \", self.age )\n",
    "        print(\"Student Marks : \", self.marks, \"\\n\\n\")\n",
    "        \n",
    "    def setAge(self, age):\n",
    "        self.age=age\n",
    "        \n",
    "    def setMarks(self, **marks):\n",
    "        self.marks=marks\n",
    "        \n",
    "\n",
    "s = Student(\"Suvarna\")        # Creating an object of Student                     \n",
    "s.displayStudentDetails()     # Display All Details\n",
    "s.setAge(15)                  # Set student age\n",
    "s.displayStudentDetails()     # Display All Details\n",
    "s.setMarks(Math=96, Science=82, English=85, Hindi=78)  # Set student marks\n",
    "s.displayStudentDetails()     # Display All Details"
   ]
  },
  {
   "cell_type": "code",
   "execution_count": 6,
   "metadata": {},
   "outputs": [
    {
     "name": "stdout",
     "output_type": "stream",
     "text": [
      "Enter hours : 6\n",
      "Enter minutes : 45\n",
      "New Time set to --->   6 hours :  45 mins\n",
      "Time is  6 hours :  45 mins \n",
      "\n",
      "\n",
      "Enter hours : 3\n",
      "Enter minutes : 30\n",
      "New Time set to --->   3 hours :  30 mins\n",
      "Time is  3 hours :  30 mins \n",
      "\n",
      "\n",
      "t_mh ::  1\n",
      "Hours set to ::  10\n",
      "Total Time adds to >>>>>>>>>>   10 hours :  15 mins\n",
      "t1 : \n",
      "Total Minutes is >>>>>   405\n",
      "t2 : \n",
      "Total Minutes is >>>>>   210\n"
     ]
    }
   ],
   "source": [
    "# 4)Create a Time class and initialize it with hours and minutes.\n",
    "#     a. Make a method addTime which should take two time object and add them. \n",
    "#         E.g.- (2 hour and 50 min)+(1 hr and 20 min) is (4 hr and 10 min)\n",
    "#     b. Make a method displayTime which should print the time.\n",
    "#     c. Make a method DisplayMinute which should display the total minutes in the Time. \n",
    "#         E.g.- (1 hr 2 min) should display 62 minute.\n",
    "\n",
    "class Time:\n",
    "    \n",
    "    def __init__(self, hours, mins):\n",
    "        self.hours=hours\n",
    "        m = mins//60  #155/60 Q=2, R=35  -> 120  + 35\n",
    "        if(m>0):\n",
    "            print(\"m :: \", m)\n",
    "            self.hours += m\n",
    "            print(\"Hours set to :: \", self.hours)\n",
    "        self.mins=mins%60 #155/60\n",
    "        print(\"New Time set to --->  \", self.hours, \"hours : \", self.mins, \"mins\")\n",
    "        \n",
    "    def displayTime(self):\n",
    "        print(\"Time is \", self.hours, \"hours : \", self.mins, \"mins \\n\\n\")\n",
    "        \n",
    "    def getHours(self):\n",
    "        return self.hours\n",
    "    \n",
    "    def getMins(self):\n",
    "        return self.mins\n",
    "\n",
    "        \n",
    "def addTime(t1, t2):\n",
    "\n",
    "    t_hrs = t1.getHours() + t2.getHours()\n",
    "    \n",
    "    ttl_mins = (t1.getMins() + t2.getMins())\n",
    "    \n",
    "    t_mh = ttl_mins//60\n",
    "\n",
    "    if(t_mh>0):\n",
    "        print(\"t_mh :: \", t_mh)\n",
    "        t_hrs += t_mh\n",
    "        print(\"Hours set to :: \", t_hrs)\n",
    "            \n",
    "    t_mins = ttl_mins%60\n",
    "    \n",
    "    print(\"Total Time adds to >>>>>>>>>>  \", t_hrs, \"hours : \", t_mins, \"mins\")\n",
    "                \n",
    "def displayMinute(t):\n",
    "    totalMins = (t.getHours()*60) + (t.getMins())\n",
    "    print(\"Total Minutes is >>>>>  \", totalMins) \n",
    "    \n",
    "t1 = Time(int(input(\"Enter hours : \")), int(input(\"Enter minutes : \")))\n",
    "t1.displayTime()\n",
    "t2 = Time(int(input(\"Enter hours : \")), int(input(\"Enter minutes : \")))\n",
    "t2.displayTime()\n",
    "\n",
    "addTime(t1, t2)\n",
    "\n",
    "print(\"t1 : \")\n",
    "displayMinute(t1)\n",
    "\n",
    "print(\"t2 : \")\n",
    "displayMinute(t2)"
   ]
  },
  {
   "cell_type": "code",
   "execution_count": 7,
   "metadata": {},
   "outputs": [
    {
     "name": "stdout",
     "output_type": "stream",
     "text": [
      "Sum of  3  &  5  is  8\n",
      "Difference of  18  &  5  is  13\n",
      "Product of the numbers  6  &  5  is  30\n",
      "125  divided by  5  gives  25.0\n"
     ]
    },
    {
     "data": {
      "text/plain": [
       "25.0"
      ]
     },
     "execution_count": 7,
     "metadata": {},
     "output_type": "execute_result"
    }
   ],
   "source": [
    "# 5) Create a class Mathematics with different mathematical operations \n",
    "#     like addition, subtraction...etc and output the deseried results\n",
    "\n",
    "class Mathematics:\n",
    "    \n",
    "    def __init__(self):\n",
    "        self.classDefinition = \"Math Operations\"\n",
    "    \n",
    "    def addNumbers(self, n1, n2):\n",
    "        print(\"Sum of \", n1, \" & \", n2, \" is \", n1 + n2)\n",
    "        return (n1 + n2)\n",
    "        \n",
    "    def subtractNumbers(self, n1, n2):\n",
    "        print(\"Difference of \", n1, \" & \", n2, \" is \", n1 - n2)\n",
    "        return (n1 - n2)\n",
    "    \n",
    "    def multiplyNumbers(self, n1, n2):\n",
    "        print(\"Product of the numbers \", n1, \" & \", n2, \" is \", n1 * n2)\n",
    "        return (n1 * n2)\n",
    "    \n",
    "    def divideNumbers(self, n1, n2):\n",
    "        print(n1, \" divided by \", n2, \" gives \", n1 / n2)\n",
    "        return (n1 / n2)\n",
    "    \n",
    "    \n",
    "m = Mathematics()\n",
    "\n",
    "m.addNumbers(3, 5)\n",
    "m.subtractNumbers(18, 5)\n",
    "m.multiplyNumbers(6, 5)\n",
    "m.divideNumbers(125, 5)"
   ]
  },
  {
   "cell_type": "code",
   "execution_count": null,
   "metadata": {},
   "outputs": [],
   "source": []
  }
 ],
 "metadata": {
  "kernelspec": {
   "display_name": "Python 3",
   "language": "python",
   "name": "python3"
  },
  "language_info": {
   "codemirror_mode": {
    "name": "ipython",
    "version": 3
   },
   "file_extension": ".py",
   "mimetype": "text/x-python",
   "name": "python",
   "nbconvert_exporter": "python",
   "pygments_lexer": "ipython3",
   "version": "3.7.3"
  }
 },
 "nbformat": 4,
 "nbformat_minor": 2
}
